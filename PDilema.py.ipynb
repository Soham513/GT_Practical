{
 "cells": [
  {
   "cell_type": "code",
   "execution_count": 4,
   "id": "6660062d",
   "metadata": {},
   "outputs": [
    {
     "name": "stdout",
     "output_type": "stream",
     "text": [
      "The possible strategies are:\n",
      "[[5 5]\n",
      " [1 1]]\n",
      "\n",
      "The payoff matrix for the game is:\n",
      "[[5 1]\n",
      " [5 1]]\n",
      "\n",
      "The Nash equilibria for the game are:\n",
      "[(0, 0), (1, 0)]\n"
     ]
    }
   ],
   "source": [
    "import numpy as np\n",
    "# Define the payoffs for the cooperative game\n",
    "reward = 5\n",
    "penalty = 1\n",
    "# Define the possible strategies\n",
    "strategies = np.array([[reward, reward], [penalty, penalty]])\n",
    "# Define the matrix for the game\n",
    "matrix = np.array([[strategies[0][0], strategies[1][0]],\n",
    "[strategies[0][1], strategies[1][1]]])\n",
    "# Find the Nash equilibrium\n",
    "nash_equilibria = []\n",
    "for i in range(2):\n",
    "    for j in range(2):\n",
    "        if matrix[i][j] == np.max(matrix[:, j]) and matrix[i][j] ==np.max(matrix[i, :]):\n",
    "            nash_equilibria.append((i, j))\n",
    "# Print the output\n",
    "print(\"The possible strategies are:\")\n",
    "print(strategies)\n",
    "print(\"\\nThe payoff matrix for the game is:\")\n",
    "print(matrix)\n",
    "print(\"\\nThe Nash equilibria for the game are:\")\n",
    "print(nash_equilibria)"
   ]
  },
  {
   "cell_type": "code",
   "execution_count": null,
   "id": "bf578a8d",
   "metadata": {},
   "outputs": [],
   "source": []
  }
 ],
 "metadata": {
  "kernelspec": {
   "display_name": "Python 3 (ipykernel)",
   "language": "python",
   "name": "python3"
  },
  "language_info": {
   "codemirror_mode": {
    "name": "ipython",
    "version": 3
   },
   "file_extension": ".py",
   "mimetype": "text/x-python",
   "name": "python",
   "nbconvert_exporter": "python",
   "pygments_lexer": "ipython3",
   "version": "3.10.9"
  }
 },
 "nbformat": 4,
 "nbformat_minor": 5
}
